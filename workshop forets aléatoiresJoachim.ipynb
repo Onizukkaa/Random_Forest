{
 "cells": [
  {
   "cell_type": "markdown",
   "id": "4e9ba56b",
   "metadata": {},
   "source": [
    "# Bagging"
   ]
  },
  {
   "cell_type": "code",
   "execution_count": 27,
   "id": "8e1537dc",
   "metadata": {},
   "outputs": [],
   "source": [
    "from sklearn.ensemble import BaggingClassifier\n",
    "from sklearn.neighbors import KNeighborsClassifier\n",
    "\n",
    "\n",
    "bagging = BaggingClassifier(KNeighborsClassifier(), max_samples=0.5, max_features=0.5)\n"
   ]
  },
  {
   "cell_type": "code",
   "execution_count": 28,
   "id": "0fe15a1c",
   "metadata": {},
   "outputs": [
    {
     "data": {
      "image/png": "[encoded data removed]",
      "text/plain": [
       "<Figure size 432x288 with 10 Axes>"
      ]
     },
     "metadata": {
      "needs_background": "light"
     },
     "output_type": "display_data"
    }
   ],
   "source": [
    "from sklearn.datasets import load_digits\n",
    "digits = load_digits()\n",
    "\n",
    "#Affichacge des 10 premières images\n",
    "import matplotlib.pyplot as plt\n",
    "fig = plt.figure()\n",
    "for i, digit in enumerate(digits.images[:10]):\n",
    "    fig.add_subplot(1,10,i+1)\n",
    "    plt.imshow(digit)\n",
    "    \n",
    "plt.show()"
   ]
  },
  {
   "cell_type": "code",
   "execution_count": 29,
   "id": "dd994e94",
   "metadata": {},
   "outputs": [
    {
     "name": "stdout",
     "output_type": "stream",
     "text": [
      "1.0\n"
     ]
    }
   ],
   "source": [
    "\"\"\"Pour ce TP, nous allons utiliser comme classifieur de base un arbre de \n",
    "décision DecisionTreeClassifier. Ce classifieur nous permet d’établir des \n",
    "performances de référence (c’est un ensemble à 1 modèle).\"\"\"\n",
    "\n",
    "import numpy as np\n",
    "from sklearn import tree\n",
    "from sklearn.ensemble import BaggingClassifier\n",
    "\n",
    "X,y = digits.data, digits.target\n",
    "clf = tree.DecisionTreeClassifier()\n",
    "clf.fit(X,y)\n",
    "accuracy = clf.score(X,y)\n",
    "print(accuracy)"
   ]
  },
  {
   "cell_type": "code",
   "execution_count": 30,
   "id": "3ad276f7",
   "metadata": {},
   "outputs": [
    {
     "name": "stdout",
     "output_type": "stream",
     "text": [
      "0.7021013597033374\n"
     ]
    }
   ],
   "source": [
    "from sklearn.model_selection import train_test_split\n",
    "#90% des données pour le test, 10% pour l'apprentissage\n",
    "X_train, X_test, y_train, y_test = train_test_split(X,y, test_size=0.90)\n",
    "\n",
    "clf = tree.DecisionTreeClassifier()\n",
    "clf.fit(X_train, y_train)\n",
    "\n",
    "Z= clf.predict(X_test)\n",
    "accuracy = clf.score(X_test, y_test)\n",
    "print(accuracy)"
   ]
  },
  {
   "cell_type": "code",
   "execution_count": 31,
   "id": "c21a217a",
   "metadata": {},
   "outputs": [
    {
     "name": "stdout",
     "output_type": "stream",
     "text": [
      "0.8111111111111111\n",
      "0.8666666666666667\n",
      "0.8888888888888888\n",
      "0.8444444444444444\n",
      "0.8666666666666667\n",
      "0.7888888888888889\n",
      "0.8666666666666667\n",
      "0.8666666666666667\n",
      "0.8666666666666667\n",
      "0.8666666666666667\n",
      "0.8333333333333334\n",
      "0.8555555555555555\n",
      "0.8444444444444444\n",
      "0.8555555555555555\n",
      "0.8888888888888888\n",
      "0.8888888888888888\n",
      "0.8444444444444444\n",
      "0.8888888888888888\n",
      "0.8444444444444444\n",
      "0.9111111111111111\n",
      "0.8333333333333334\n",
      "0.9111111111111111\n",
      "0.8333333333333334\n",
      "0.9111111111111111\n",
      "0.8666666666666667\n",
      "0.8666666666666667\n",
      "0.9111111111111111\n",
      "0.8333333333333334\n",
      "0.8222222222222222\n",
      "0.9222222222222223\n",
      "0.8444444444444444\n",
      "0.9222222222222223\n",
      "0.9\n",
      "0.8555555555555555\n",
      "0.9\n",
      "0.9555555555555556\n",
      "0.8222222222222222\n",
      "0.8888888888888888\n",
      "0.8555555555555555\n",
      "0.7888888888888889\n",
      "0.8888888888888888\n",
      "0.8555555555555555\n",
      "0.8222222222222222\n",
      "0.8666666666666667\n",
      "0.8333333333333334\n",
      "0.8888888888888888\n",
      "0.8555555555555555\n",
      "0.8777777777777778\n",
      "0.8444444444444444\n",
      "0.8333333333333334\n",
      "0.8777777777777778\n",
      "0.8888888888888888\n",
      "0.8444444444444444\n",
      "0.8777777777777778\n",
      "0.8111111111111111\n",
      "0.8777777777777778\n",
      "0.8222222222222222\n",
      "0.8666666666666667\n",
      "0.8333333333333334\n",
      "0.8444444444444444\n",
      "0.9444444444444444\n",
      "0.9\n",
      "0.8\n",
      "0.8777777777777778\n",
      "0.8\n",
      "0.9\n",
      "0.8666666666666667\n",
      "0.9222222222222223\n",
      "0.8111111111111111\n",
      "0.8888888888888888\n",
      "0.8666666666666667\n",
      "0.8555555555555555\n",
      "0.8444444444444444\n",
      "0.8222222222222222\n",
      "0.8555555555555555\n",
      "0.8333333333333334\n",
      "0.8555555555555555\n",
      "0.8555555555555555\n",
      "0.8222222222222222\n",
      "0.8888888888888888\n",
      "0.8888888888888888\n",
      "0.8888888888888888\n",
      "0.8777777777777778\n",
      "0.9\n",
      "0.8666666666666667\n",
      "0.9\n",
      "0.9111111111111111\n",
      "0.8333333333333334\n",
      "0.9\n",
      "0.9\n",
      "0.8444444444444444\n",
      "0.9333333333333333\n",
      "0.8333333333333334\n",
      "0.9\n",
      "0.8333333333333334\n",
      "0.8777777777777778\n",
      "0.8222222222222222\n",
      "0.9222222222222223\n",
      "0.8333333333333334\n",
      "0.9\n",
      "0.8652222222222222 0.034912766068701875\n"
     ]
    }
   ],
   "source": [
    "\"\"\" construire la variance de la valeur accuracy sur 100 tirages \n",
    "pour la séparation aprentissage/test\"\"\"\n",
    "\n",
    "N = 100\n",
    "accuracies = []\n",
    "\n",
    "for i in range(N):\n",
    "    X_train, X_test, y_train, y_test= train_test_split(X,y,test_size=0.05)\n",
    "    clf = tree.DecisionTreeClassifier()\n",
    "    clf.fit(X_train, y_train)\n",
    "    Z = clf.predict(X_test)\n",
    "    accuracies.append(clf.score(X_test,y_test))\n",
    "    print(accuracies[i])\n",
    "    \n",
    "print(np.mean(accuracies),np.std(accuracies))"
   ]
  },
  {
   "cell_type": "code",
   "execution_count": 32,
   "id": "8713f24f",
   "metadata": {},
   "outputs": [],
   "source": [
    "#construire un classifieur bagging sur les données\n",
    "clf = BaggingClassifier(tree.DecisionTreeClassifier(), max_samples=0.5, max_features=0.5, n_estimators=200)"
   ]
  },
  {
   "cell_type": "code",
   "execution_count": 33,
   "id": "1a93e26c",
   "metadata": {},
   "outputs": [],
   "source": [
    "#Apprentissage et évalutation de l'ensemble\n",
    "clf.fit(X_train,y_train)\n",
    "Z = clf.predict(X_test)\n",
    "accuracy = clf.score(X_test, y_test)"
   ]
  },
  {
   "cell_type": "code",
   "execution_count": 34,
   "id": "6ef8a54c",
   "metadata": {},
   "outputs": [
    {
     "name": "stdout",
     "output_type": "stream",
     "text": [
      "0.9555555555555556\n"
     ]
    }
   ],
   "source": [
    "print(accuracy)"
   ]
  },
  {
   "cell_type": "code",
   "execution_count": 35,
   "id": "bc4c0cc0",
   "metadata": {},
   "outputs": [
    {
     "data": {
      "image/png": "[encoded data removed]",
      "text/plain": [
       "<Figure size 432x288 with 1 Axes>"
      ]
     },
     "metadata": {
      "needs_background": "light"
     },
     "output_type": "display_data"
    }
   ],
   "source": [
    "#Construire le graphique accuracy vs n_estimators\n",
    "N = 30\n",
    "accuracy = []\n",
    "\n",
    "for i in range(N):\n",
    "    X_train,X_test,y_train,y_test = train_test_split(X,y,test_size=0.5)\n",
    "    clf = BaggingClassifier(tree.DecisionTreeClassifier(), max_samples=0.5, max_features=0.5, n_estimators=(i+1)*10)\n",
    "    clf.fit(X_train,y_train)\n",
    "    Z = clf.predict(X_test)\n",
    "    accuracy.append(clf.score(X_test, y_test))\n",
    "    \n",
    "import matplotlib.pyplot as plt\n",
    "\n",
    "plt.plot([10*(i+1) for i in range(N)], accuracy)\n",
    "plt.show()"
   ]
  },
  {
   "cell_type": "code",
   "execution_count": 36,
   "id": "90172d83",
   "metadata": {},
   "outputs": [
    {
     "name": "stdout",
     "output_type": "stream",
     "text": [
      "Meilleur score : 0.9110122358175751\n",
      "max_sample : 0.8\n",
      "max_features : 0.5\n"
     ]
    }
   ],
   "source": [
    "#Pour chercher de bonnes valeurs pour paramètres , GridSearchCV\n",
    "\n",
    "digits = load_digits()\n",
    "X = digits.data\n",
    "y = digits.target\n",
    "X_train,X_test, y_train, y_test = train_test_split(X, y, test_size=0.5)\n",
    "\n",
    "from sklearn.model_selection import GridSearchCV\n",
    "\n",
    "pgrid = {\"max_samples\": [0.2,0.3, 0.4,0.5, 0.6, 0.8],\n",
    "        \"max_features\": [0.2,0.3, 0.4,0.5, 0.6, 0.8]}\n",
    "\n",
    "grid_search = GridSearchCV(BaggingClassifier(tree.DecisionTreeClassifier()), param_grid=pgrid, cv=5)\n",
    "grid_search.fit(X_train, y_train)\n",
    "\n",
    "print(\"Meilleur score : \" + str(grid_search.best_estimator_.score(X_test, y_test)))\n",
    "print(\"max_sample : \" + str(grid_search.best_estimator_.max_samples))\n",
    "print(\"max_features : \" + str(grid_search.best_estimator_.max_features))"
   ]
  },
  {
   "cell_type": "code",
   "execution_count": 39,
   "id": "3f6c0299",
   "metadata": {},
   "outputs": [
    {
     "data": {
      "text/plain": [
       "RandomForestClassifier(n_estimators=200)"
      ]
     },
     "execution_count": 39,
     "metadata": {},
     "output_type": "execute_result"
    }
   ],
   "source": [
    "#Forêts aléatoires\n",
    "from sklearn.model_selection import train_test_split\n",
    "from sklearn.ensemble import RandomForestClassifier\n",
    "\n",
    "digits = load_digits()\n",
    "X = digits.data\n",
    "y = digits.target\n",
    "\n",
    "X_train,X_test,y_train,y_test = train_test_split(X,y,test_size=0.90)\n",
    "\n",
    "clf = RandomForestClassifier(n_estimators=200)\n",
    "clf.fit(X_train,y_train)"
   ]
  },
  {
   "cell_type": "code",
   "execution_count": 40,
   "id": "71eb0d34",
   "metadata": {},
   "outputs": [
    {
     "name": "stdout",
     "output_type": "stream",
     "text": [
      "Arbre de décision : 0.6724351050679852\n",
      "Bagging (200 arbres): 0.8856613102595797\n",
      "Forêt aléatoire (200 arbres)0.8936959208899876\n"
     ]
    }
   ],
   "source": [
    "#Comment la valeur variable accuracy se comprare entre bagging forêts aléatoires\n",
    "\n",
    "clf = tree.DecisionTreeClassifier()\n",
    "clf.fit(X_train,y_train)\n",
    "Z = clf.predict(X_test)\n",
    "print(\"Arbre de décision : \" + str(clf.score(X_test,y_test)))\n",
    "\n",
    "clf = BaggingClassifier(tree.DecisionTreeClassifier(), max_samples=0.5, max_features=0.5, n_estimators=200)\n",
    "clf.fit(X_train, y_train)\n",
    "Z = clf.predict(X_test)\n",
    "print(\"Bagging (200 arbres): \" + str(clf.score(X_test,y_test)))\n",
    "\n",
    "clf = RandomForestClassifier(n_estimators=200)\n",
    "clf.fit(X_train,y_train)\n",
    "Z = clf.predict(X_test)\n",
    "print(\"Forêt aléatoire (200 arbres)\" + str(clf.score(X_test,y_test)))"
   ]
  },
  {
   "cell_type": "code",
   "execution_count": 44,
   "id": "d6a33c84",
   "metadata": {},
   "outputs": [
    {
     "name": "stdout",
     "output_type": "stream",
     "text": [
      "0.9334816462736374 0.010057979582164457\n",
      "0.9587319243604003 0.004960868325022853\n"
     ]
    }
   ],
   "source": [
    "#Construire la variance de la valeur accuracy sur 100 tirages pour la séparation apprentissage/test\n",
    "\n",
    "N=10\n",
    "bagging_accuracies = []\n",
    "for i in range(N):\n",
    "    X_train,X_test,y_train,y_test = train_test_split(X,y, test_size=0.5)\n",
    "    clf = BaggingClassifier(tree.DecisionTreeClassifier(), n_estimators=30)\n",
    "    clf.fit(X_train,y_train)\n",
    "    bagging_accuracies.append(clf.score(X_test,y_test))\n",
    "    \n",
    "print(np.mean(bagging_accuracies), np.std(bagging_accuracies))\n",
    "\n",
    "rf_accuracies =[]\n",
    "for i in range(N):\n",
    "    X_train,X_test,y_train,y_test = train_test_split(X,y, test_size=0.5)\n",
    "    clf = RandomForestClassifier(n_estimators=30)\n",
    "    clf.fit(X_train,y_train)\n",
    "    rf_accuracies.append(clf.score(X_test,y_test))\n",
    "    \n",
    "print(np.mean(rf_accuracies), np.std(rf_accuracies))"
   ]
  },
  {
   "cell_type": "code",
   "execution_count": 46,
   "id": "b9880e21",
   "metadata": {},
   "outputs": [
    {
     "name": "stdout",
     "output_type": "stream",
     "text": [
      "10 0.9232480533926585\n",
      "20 0.9555061179087876\n",
      "30 0.9555061179087876\n",
      "40 0.9632925472747497\n",
      "50 0.9666295884315906\n",
      "60 0.967741935483871\n",
      "70 0.9655172413793104\n",
      "80 0.9688542825361512\n",
      "90 0.9699666295884316\n",
      "100 0.967741935483871\n",
      "110 0.9699666295884316\n",
      "120 0.96440489432703\n",
      "130 0.9688542825361512\n",
      "140 0.9699666295884316\n",
      "150 0.967741935483871\n",
      "160 0.967741935483871\n",
      "170 0.9710789766407119\n",
      "180 0.9666295884315906\n",
      "190 0.9666295884315906\n",
      "200 0.9666295884315906\n",
      "210 0.9710789766407119\n",
      "220 0.9655172413793104\n",
      "230 0.9688542825361512\n",
      "240 0.9655172413793104\n",
      "250 0.9666295884315906\n",
      "260 0.9688542825361512\n",
      "270 0.9699666295884316\n",
      "280 0.9688542825361512\n",
      "290 0.9699666295884316\n",
      "300 0.9688542825361512\n"
     ]
    },
    {
     "data": {
      "image/png": "[encoded data removed]",
      "text/plain": [
       "<Figure size 432x288 with 1 Axes>"
      ]
     },
     "metadata": {
      "needs_background": "light"
     },
     "output_type": "display_data"
    }
   ],
   "source": [
    "#Construire graphique accuracy vs n_estimator\n",
    "N=30\n",
    "accuracy=[]\n",
    "\n",
    "for i in range(N):\n",
    "    clf = RandomForestClassifier(n_estimators=(i+1)*10)\n",
    "    clf.fit(X_train,y_train)\n",
    "    accuracy.append(clf.score(X_test,y_test))\n",
    "    print((i+1)*10, accuracy[i])\n",
    "    \n",
    "plt.plot([10*(i+1) for i in range(30)], accuracy)\n",
    "plt.show()"
   ]
  },
  {
   "cell_type": "code",
   "execution_count": 52,
   "id": "68aad27f",
   "metadata": {
    "scrolled": true
   },
   "outputs": [
    {
     "name": "stdout",
     "output_type": "stream",
     "text": [
      "Forêt aléatoire : 0.9588431590656284\n",
      "Extra Trees : 0.9744160177975528\n"
     ]
    }
   ],
   "source": [
    "\"\"\"Extra-Trees  randomisent encore plus la construction de l'arbre et sont utilisés surtout pour des données numériques.\n",
    "Par rapport au random forest, ils abandonnent l'utilisation des échantillons de bootstrap et pour chaque feature candidat\n",
    "choisissent un seuil de coupeur aléatoire. Bien pour des problèmes d'apprentissage avec un grand nombre de features\n",
    "qui varient de manière continue. SOuvent leur taux d'erreur est supérieur aux random forest, temps de calcul pluis faible, \n",
    "arbres générés plus grand\"\"\"\n",
    "\n",
    "from sklearn.ensemble import ExtraTreesClassifier\n",
    "import numpy as np\n",
    "\n",
    "digits = load_digits()\n",
    "X = digits.data\n",
    "y = digits.target\n",
    "\n",
    "X_train,X_test,y_train,y_test = train_test_split(X,y, test_size=0.50, random_state=0)\n",
    "\n",
    "clf = RandomForestClassifier(n_estimators=50)\n",
    "clf.fit(X_train,y_train)\n",
    "accuracy=clf.score(X_test,y_test)\n",
    "print(\"Forêt aléatoire : \" + str(accuracy))\n",
    "\n",
    "clf = ExtraTreesClassifier(n_estimators=50)\n",
    "clf.fit(X_train,y_train)\n",
    "accuracy = clf.score(X_test,y_test)\n",
    "print(\"Extra Trees : \" + str(accuracy))"
   ]
  },
  {
   "cell_type": "code",
   "execution_count": 55,
   "id": "a423d40f",
   "metadata": {},
   "outputs": [
    {
     "name": "stdout",
     "output_type": "stream",
     "text": [
      "Accuracy = 0.92336217552534\n"
     ]
    }
   ],
   "source": [
    "#Boosting\n",
    "\"\"\"Le principe est d'évaluer une séquence de classifieurs faibles (weak learners) sur plusieurs versions légèrement\n",
    "mdofiées des données d'apprentissage. Les décisions obtenues sont alors combinées par une somme ponderée pour obtenir le \n",
    "modèle final.\"\"\"\n",
    "\n",
    "from sklearn.ensemble import AdaBoostClassifier\n",
    "\n",
    "digits = load_digits()\n",
    "X= digits.data\n",
    "y=digits.target\n",
    "\n",
    "X_train,X_test,y_train,y_test = train_test_split(X,y, test_size = 0.90)\n",
    "\n",
    "#AdaBoost basé sur 200 arbres de décision\n",
    "clf = AdaBoostClassifier(base_estimator=tree.DecisionTreeClassifier(max_depth=5), n_estimators=200, learning_rate=2)\n",
    "clf.fit(X_train,y_train)\n",
    "accuracy = clf.score(X_test,y_test)\n",
    "print(f\"Accuracy = {accuracy}\")"
   ]
  },
  {
   "cell_type": "code",
   "execution_count": null,
   "id": "23d924ad",
   "metadata": {},
   "outputs": [],
   "source": []
  }
 ],
 "metadata": {
  "kernelspec": {
   "display_name": "Python 3 (ipykernel)",
   "language": "python",
   "name": "python3"
  },
  "language_info": {
   "codemirror_mode": {
    "name": "ipython",
    "version": 3
   },
   "file_extension": ".py",
   "mimetype": "text/x-python",
   "name": "python",
   "nbconvert_exporter": "python",
   "pygments_lexer": "ipython3",
   "version": "3.8.12"
  }
 },
 "nbformat": 4,
 "nbformat_minor": 5
}
